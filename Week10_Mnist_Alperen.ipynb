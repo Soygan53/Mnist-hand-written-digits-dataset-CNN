{
  "nbformat": 4,
  "nbformat_minor": 0,
  "metadata": {
    "colab": {
      "provenance": []
    },
    "kernelspec": {
      "name": "python3",
      "display_name": "Python 3"
    },
    "language_info": {
      "name": "python"
    }
  },
  "cells": [
    {
      "cell_type": "markdown",
      "source": [
        "### Ödev 1:\n",
        "Minst handwritten datasını kullanarak bir adet CNN ağ yapısı geliştiriniz.\n",
        "\n",
        "Ağ yapısı:\n",
        "\n",
        "Conv2D(32,(3,3))\n",
        "\n",
        "relu activation\n",
        "\n",
        "Conv2D(64,(3,3))\n",
        "\n",
        "relu activation\n",
        "\n",
        "Maxpooling ((2,2))\n",
        "\n",
        "Conv2D(128,(3,3))\n",
        "\n",
        "relu activation\n",
        "\n",
        "Conv2D(64,(3,3))\n",
        "\n",
        "relu activation\n",
        "\n",
        "Flatten()\n",
        "\n",
        "Dense 256\n",
        "\n",
        "dropout 0.25\n",
        "\n",
        "dense 128\n",
        "\n",
        "dropout 0.3\n",
        "\n",
        "dense layer for last (Buradaki bilgileri sizden bekliyorum.)\n",
        "\n",
        "10 epoch olacak şekilde çalıştırmanızı isitiyorum.\n",
        "\n",
        "daha sonrasında bathc_size 32 64 128 256 512 1024 olacak şekilde deneyiniz. Accuracy değerlerini ve çalışma süreleriniz karşılaştırnız. Bunu plot olarak çizdiriniz."
      ],
      "metadata": {
        "id": "GTcRNIzg2WL6"
      }
    },
    {
      "cell_type": "code",
      "execution_count": 1,
      "metadata": {
        "colab": {
          "base_uri": "https://localhost:8080/"
        },
        "id": "qPpWq66U2MUE",
        "outputId": "651f6d3e-4739-40c3-9ce3-341db952177b"
      },
      "outputs": [
        {
          "output_type": "stream",
          "name": "stdout",
          "text": [
            "Downloading data from https://storage.googleapis.com/tensorflow/tf-keras-datasets/mnist.npz\n",
            "11490434/11490434 [==============================] - 0s 0us/step\n"
          ]
        }
      ],
      "source": [
        "from keras.datasets import mnist\n",
        "\n",
        "(x_train, y_train),(x_test,y_test) = mnist.load_data()"
      ]
    },
    {
      "cell_type": "code",
      "source": [
        "print(x_train.shape)\n",
        "print(x_test.shape)"
      ],
      "metadata": {
        "colab": {
          "base_uri": "https://localhost:8080/"
        },
        "id": "D76oVS0925ah",
        "outputId": "adea095a-f1a2-41ed-8624-35da69ef4f7b"
      },
      "execution_count": 9,
      "outputs": [
        {
          "output_type": "stream",
          "name": "stdout",
          "text": [
            "(60000, 28, 28, 1)\n",
            "(10000, 28, 28, 1)\n"
          ]
        }
      ]
    },
    {
      "cell_type": "code",
      "source": [
        "x_train=x_train.reshape(x_train.shape[0],28,28,1)\n",
        "x_test=x_test.reshape(x_test.shape[0],28,28,1)\n",
        "x_train=x_train.astype(\"float32\")\n",
        "x_test=x_test.astype(\"float32\")\n",
        "x_train/=255\n",
        "x_test/=255"
      ],
      "metadata": {
        "id": "z-RQ9hu43FFd"
      },
      "execution_count": 4,
      "outputs": []
    },
    {
      "cell_type": "code",
      "source": [
        "from keras.utils import np_utils,to_categorical\n",
        "y_train=to_categorical(y_train)\n",
        "y_test=to_categorical(y_test)"
      ],
      "metadata": {
        "id": "5NQ5S03m3N3l"
      },
      "execution_count": 6,
      "outputs": []
    },
    {
      "cell_type": "code",
      "source": [
        "print(y_train.shape)\n",
        "print(y_test.shape)"
      ],
      "metadata": {
        "colab": {
          "base_uri": "https://localhost:8080/"
        },
        "id": "yYwHeoFC3fGs",
        "outputId": "f9e725ed-ef5e-466d-a8fa-50bce1eab5df"
      },
      "execution_count": 7,
      "outputs": [
        {
          "output_type": "stream",
          "name": "stdout",
          "text": [
            "(60000, 10)\n",
            "(10000, 10)\n"
          ]
        }
      ]
    },
    {
      "cell_type": "code",
      "source": [
        "import keras\n",
        "from keras.models import Sequential\n",
        "from keras.layers import Dense, Dropout, Flatten\n",
        "from keras.layers import Conv2D, MaxPooling2D, Activation\n",
        "from keras.optimizers import SGD, RMSprop\n",
        "\n",
        "model=Sequential()\n",
        "model.add(Conv2D(32,(3,3), activation=\"relu\", input_shape=(28,28,1)))\n",
        "\n",
        "model.add(Conv2D(64,(3,3)))\n",
        "model.add(Activation(\"relu\"))\n",
        "model.add(MaxPooling2D(pool_size=(2,2)))\n",
        "\n",
        "model.add(Conv2D(128,(3,3), activation=\"relu\"))\n",
        "\n",
        "model.add(Conv2D(64,(3,3), activation=\"relu\"))\n",
        "model.add(Flatten())\n",
        "\n",
        "model.add(Dense(256, activation=\"relu\"))\n",
        "model.add(Dropout(0.25))\n",
        "\n",
        "model.add(Dense(128, activation=\"relu\"))\n",
        "model.add(Dropout(0.3))\n",
        "\n",
        "model.add(Dense(10, activation=\"softmax\"))\n",
        "\n",
        "optimizer=RMSprop(learning_rate=0.001)\n",
        "model.compile(optimizer=optimizer,loss=\"categorical_crossentropy\",metrics=[\"accuracy\"])"
      ],
      "metadata": {
        "id": "-Nr7eSj03ukC"
      },
      "execution_count": 12,
      "outputs": []
    },
    {
      "cell_type": "code",
      "source": [
        "model.fit(x_train,y_train,batch_size=32,epochs=10,verbose=1,validation_data=(x_test,y_test))\n",
        "score1 = model.evaluate(x_test,y_test)\n",
        "model.fit(x_train,y_train,batch_size=64,epochs=10,verbose=1,validation_data=(x_test,y_test))\n",
        "print(model.evaluate(x_test,y_test))\n",
        "score2 = model.evaluate(x_test,y_test)\n",
        "model.fit(x_train,y_train,batch_size=128,epochs=10,verbose=1,validation_data=(x_test,y_test))\n",
        "print(model.evaluate(x_test,y_test))\n",
        "score3 = model.evaluate(x_test,y_test)\n",
        "model.fit(x_train,y_train,batch_size=256,epochs=10,verbose=1,validation_data=(x_test,y_test))\n",
        "print(model.evaluate(x_test,y_test))\n",
        "score4 = model.evaluate(x_test,y_test)\n",
        "model.fit(x_train,y_train,batch_size=512,epochs=10,verbose=1,validation_data=(x_test,y_test))\n",
        "print(model.evaluate(x_test,y_test))\n",
        "score5 = model.evaluate(x_test,y_test)\n",
        "model.fit(x_train,y_train,batch_size=1024,epochs=10,verbose=1,validation_data=(x_test,y_test))\n",
        "print(model.evaluate(x_test,y_test))\n",
        "score6 = model.evaluate(x_test,y_test)"
      ],
      "metadata": {
        "colab": {
          "base_uri": "https://localhost:8080/"
        },
        "id": "kDQwR_qS34eN",
        "outputId": "937c83de-f0b7-4928-eca6-ab8886b80134"
      },
      "execution_count": 15,
      "outputs": [
        {
          "output_type": "stream",
          "name": "stdout",
          "text": [
            "Epoch 1/10\n",
            "1875/1875 [==============================] - 364s 194ms/step - loss: 0.0646 - accuracy: 0.9824 - val_loss: 0.0386 - val_accuracy: 0.9892\n",
            "Epoch 2/10\n",
            "1875/1875 [==============================] - 340s 181ms/step - loss: 0.0562 - accuracy: 0.9866 - val_loss: 0.0394 - val_accuracy: 0.9895\n",
            "Epoch 3/10\n",
            "1875/1875 [==============================] - 331s 177ms/step - loss: 0.0596 - accuracy: 0.9868 - val_loss: 0.0416 - val_accuracy: 0.9866\n",
            "Epoch 4/10\n",
            "1875/1875 [==============================] - 320s 171ms/step - loss: 0.0634 - accuracy: 0.9875 - val_loss: 0.0659 - val_accuracy: 0.9849\n",
            "Epoch 5/10\n",
            "1875/1875 [==============================] - 330s 176ms/step - loss: 0.0661 - accuracy: 0.9862 - val_loss: 0.0494 - val_accuracy: 0.9895\n",
            "Epoch 6/10\n",
            "1875/1875 [==============================] - 324s 173ms/step - loss: 0.0677 - accuracy: 0.9861 - val_loss: 0.0871 - val_accuracy: 0.9834\n",
            "Epoch 7/10\n",
            "1875/1875 [==============================] - 322s 172ms/step - loss: 0.0749 - accuracy: 0.9862 - val_loss: 0.0593 - val_accuracy: 0.9873\n",
            "Epoch 8/10\n",
            "1875/1875 [==============================] - 322s 172ms/step - loss: 0.0869 - accuracy: 0.9838 - val_loss: 0.0568 - val_accuracy: 0.9893\n",
            "Epoch 9/10\n",
            "1875/1875 [==============================] - 322s 172ms/step - loss: 0.0936 - accuracy: 0.9833 - val_loss: 0.0588 - val_accuracy: 0.9879\n",
            "Epoch 10/10\n",
            "1875/1875 [==============================] - 323s 172ms/step - loss: 0.0980 - accuracy: 0.9818 - val_loss: 0.0938 - val_accuracy: 0.9860\n",
            "313/313 [==============================] - 12s 39ms/step - loss: 0.0938 - accuracy: 0.9860\n",
            "Epoch 1/10\n",
            "938/938 [==============================] - 303s 323ms/step - loss: 0.0731 - accuracy: 0.9855 - val_loss: 0.0669 - val_accuracy: 0.9872\n",
            "Epoch 2/10\n",
            "938/938 [==============================] - 307s 327ms/step - loss: 0.0697 - accuracy: 0.9854 - val_loss: 0.0717 - val_accuracy: 0.9864\n",
            "Epoch 3/10\n",
            "938/938 [==============================] - 305s 325ms/step - loss: 0.0693 - accuracy: 0.9862 - val_loss: 0.0783 - val_accuracy: 0.9878\n",
            "Epoch 4/10\n",
            "938/938 [==============================] - 302s 321ms/step - loss: 0.0698 - accuracy: 0.9857 - val_loss: 0.0534 - val_accuracy: 0.9867\n",
            "Epoch 5/10\n",
            "938/938 [==============================] - 304s 324ms/step - loss: 0.0680 - accuracy: 0.9853 - val_loss: 0.0635 - val_accuracy: 0.9876\n",
            "Epoch 6/10\n",
            "938/938 [==============================] - 307s 327ms/step - loss: 0.0733 - accuracy: 0.9854 - val_loss: 0.0683 - val_accuracy: 0.9823\n",
            "Epoch 7/10\n",
            "938/938 [==============================] - 307s 327ms/step - loss: 0.0749 - accuracy: 0.9861 - val_loss: 0.1808 - val_accuracy: 0.9848\n",
            "Epoch 8/10\n",
            "938/938 [==============================] - 305s 325ms/step - loss: 0.0783 - accuracy: 0.9848 - val_loss: 0.0515 - val_accuracy: 0.9881\n",
            "Epoch 9/10\n",
            "938/938 [==============================] - 304s 324ms/step - loss: 0.0787 - accuracy: 0.9844 - val_loss: 0.1393 - val_accuracy: 0.9660\n",
            "Epoch 10/10\n",
            "938/938 [==============================] - 307s 327ms/step - loss: 0.0851 - accuracy: 0.9836 - val_loss: 0.1101 - val_accuracy: 0.9886\n",
            "313/313 [==============================] - 13s 41ms/step - loss: 0.1101 - accuracy: 0.9886\n",
            "[0.11008957773447037, 0.9886000156402588]\n",
            "313/313 [==============================] - 13s 41ms/step - loss: 0.1101 - accuracy: 0.9886\n",
            "Epoch 1/10\n",
            "469/469 [==============================] - 294s 628ms/step - loss: 0.0610 - accuracy: 0.9876 - val_loss: 0.0776 - val_accuracy: 0.9880\n",
            "Epoch 2/10\n",
            "469/469 [==============================] - 294s 627ms/step - loss: 0.0529 - accuracy: 0.9880 - val_loss: 0.0525 - val_accuracy: 0.9885\n",
            "Epoch 3/10\n",
            "469/469 [==============================] - 295s 629ms/step - loss: 0.0524 - accuracy: 0.9884 - val_loss: 0.0415 - val_accuracy: 0.9886\n",
            "Epoch 4/10\n",
            "469/469 [==============================] - 296s 632ms/step - loss: 0.0684 - accuracy: 0.9887 - val_loss: 0.0650 - val_accuracy: 0.9872\n",
            "Epoch 5/10\n",
            "469/469 [==============================] - 294s 628ms/step - loss: 0.0551 - accuracy: 0.9885 - val_loss: 0.0369 - val_accuracy: 0.9897\n",
            "Epoch 6/10\n",
            "469/469 [==============================] - 293s 626ms/step - loss: 0.0522 - accuracy: 0.9885 - val_loss: 0.0438 - val_accuracy: 0.9900\n",
            "Epoch 7/10\n",
            "469/469 [==============================] - 298s 636ms/step - loss: 0.0563 - accuracy: 0.9890 - val_loss: 0.0429 - val_accuracy: 0.9885\n",
            "Epoch 8/10\n",
            "469/469 [==============================] - 294s 626ms/step - loss: 0.0497 - accuracy: 0.9889 - val_loss: 0.0484 - val_accuracy: 0.9873\n",
            "Epoch 9/10\n",
            "469/469 [==============================] - 292s 623ms/step - loss: 0.0620 - accuracy: 0.9889 - val_loss: 0.0562 - val_accuracy: 0.9883\n",
            "Epoch 10/10\n",
            "469/469 [==============================] - 294s 626ms/step - loss: 0.0497 - accuracy: 0.9895 - val_loss: 0.0834 - val_accuracy: 0.9881\n",
            "313/313 [==============================] - 13s 40ms/step - loss: 0.0834 - accuracy: 0.9881\n",
            "[0.08337181061506271, 0.988099992275238]\n",
            "313/313 [==============================] - 12s 39ms/step - loss: 0.0834 - accuracy: 0.9881\n",
            "Epoch 1/10\n",
            "235/235 [==============================] - 284s 1s/step - loss: 0.0426 - accuracy: 0.9907 - val_loss: 0.0563 - val_accuracy: 0.9896\n",
            "Epoch 2/10\n",
            "235/235 [==============================] - 285s 1s/step - loss: 0.0382 - accuracy: 0.9919 - val_loss: 0.0600 - val_accuracy: 0.9899\n",
            "Epoch 3/10\n",
            "235/235 [==============================] - 285s 1s/step - loss: 0.0382 - accuracy: 0.9917 - val_loss: 0.0473 - val_accuracy: 0.9873\n",
            "Epoch 4/10\n",
            "235/235 [==============================] - 286s 1s/step - loss: 0.0351 - accuracy: 0.9919 - val_loss: 0.0484 - val_accuracy: 0.9919\n",
            "Epoch 5/10\n",
            "235/235 [==============================] - 283s 1s/step - loss: 0.0332 - accuracy: 0.9926 - val_loss: 0.0510 - val_accuracy: 0.9903\n",
            "Epoch 6/10\n",
            "235/235 [==============================] - 284s 1s/step - loss: 0.0385 - accuracy: 0.9921 - val_loss: 0.0484 - val_accuracy: 0.9912\n",
            "Epoch 7/10\n",
            "235/235 [==============================] - 303s 1s/step - loss: 0.0351 - accuracy: 0.9921 - val_loss: 0.0583 - val_accuracy: 0.9892\n",
            "Epoch 8/10\n",
            "235/235 [==============================] - 313s 1s/step - loss: 0.0329 - accuracy: 0.9926 - val_loss: 0.0587 - val_accuracy: 0.9896\n",
            "Epoch 9/10\n",
            "235/235 [==============================] - 296s 1s/step - loss: 0.0344 - accuracy: 0.9924 - val_loss: 0.0515 - val_accuracy: 0.9898\n",
            "Epoch 10/10\n",
            "235/235 [==============================] - 287s 1s/step - loss: 0.0343 - accuracy: 0.9929 - val_loss: 0.0573 - val_accuracy: 0.9887\n",
            "313/313 [==============================] - 12s 40ms/step - loss: 0.0573 - accuracy: 0.9887\n",
            "[0.057257890701293945, 0.9886999726295471]\n",
            "313/313 [==============================] - 13s 41ms/step - loss: 0.0573 - accuracy: 0.9887\n",
            "Epoch 1/10\n",
            "118/118 [==============================] - 286s 2s/step - loss: 0.0247 - accuracy: 0.9939 - val_loss: 0.3468 - val_accuracy: 0.9784\n",
            "Epoch 2/10\n",
            "118/118 [==============================] - 283s 2s/step - loss: 0.0235 - accuracy: 0.9943 - val_loss: 0.0515 - val_accuracy: 0.9906\n",
            "Epoch 3/10\n",
            "118/118 [==============================] - 284s 2s/step - loss: 0.0206 - accuracy: 0.9949 - val_loss: 0.1178 - val_accuracy: 0.9860\n",
            "Epoch 4/10\n",
            "118/118 [==============================] - 288s 2s/step - loss: 0.0215 - accuracy: 0.9951 - val_loss: 0.0621 - val_accuracy: 0.9917\n",
            "Epoch 5/10\n",
            "118/118 [==============================] - 286s 2s/step - loss: 0.0232 - accuracy: 0.9950 - val_loss: 0.0665 - val_accuracy: 0.9915\n",
            "Epoch 6/10\n",
            "118/118 [==============================] - 281s 2s/step - loss: 0.0202 - accuracy: 0.9951 - val_loss: 0.0666 - val_accuracy: 0.9921\n",
            "Epoch 7/10\n",
            "118/118 [==============================] - 281s 2s/step - loss: 0.0198 - accuracy: 0.9950 - val_loss: 0.0505 - val_accuracy: 0.9899\n",
            "Epoch 8/10\n",
            "118/118 [==============================] - 280s 2s/step - loss: 0.0183 - accuracy: 0.9955 - val_loss: 0.2866 - val_accuracy: 0.9872\n",
            "Epoch 9/10\n",
            "118/118 [==============================] - 283s 2s/step - loss: 0.0201 - accuracy: 0.9954 - val_loss: 0.0613 - val_accuracy: 0.9882\n",
            "Epoch 10/10\n",
            "118/118 [==============================] - 281s 2s/step - loss: 0.0202 - accuracy: 0.9956 - val_loss: 0.0707 - val_accuracy: 0.9903\n",
            "313/313 [==============================] - 13s 40ms/step - loss: 0.0707 - accuracy: 0.9903\n",
            "[0.07065465301275253, 0.9902999997138977]\n",
            "313/313 [==============================] - 13s 40ms/step - loss: 0.0707 - accuracy: 0.9903\n",
            "Epoch 1/10\n",
            "59/59 [==============================] - 281s 5s/step - loss: 0.0149 - accuracy: 0.9965 - val_loss: 0.0465 - val_accuracy: 0.9910\n",
            "Epoch 2/10\n",
            "59/59 [==============================] - 279s 5s/step - loss: 0.0109 - accuracy: 0.9972 - val_loss: 0.0883 - val_accuracy: 0.9771\n",
            "Epoch 3/10\n",
            "59/59 [==============================] - 281s 5s/step - loss: 0.0137 - accuracy: 0.9966 - val_loss: 0.0491 - val_accuracy: 0.9920\n",
            "Epoch 4/10\n",
            "59/59 [==============================] - 278s 5s/step - loss: 0.0136 - accuracy: 0.9967 - val_loss: 0.0447 - val_accuracy: 0.9914\n",
            "Epoch 5/10\n",
            "59/59 [==============================] - 280s 5s/step - loss: 0.0109 - accuracy: 0.9971 - val_loss: 0.0495 - val_accuracy: 0.9925\n",
            "Epoch 6/10\n",
            "59/59 [==============================] - 280s 5s/step - loss: 0.0144 - accuracy: 0.9972 - val_loss: 0.1293 - val_accuracy: 0.9903\n",
            "Epoch 7/10\n",
            "59/59 [==============================] - 280s 5s/step - loss: 0.0127 - accuracy: 0.9973 - val_loss: 0.0583 - val_accuracy: 0.9923\n",
            "Epoch 8/10\n",
            "59/59 [==============================] - 278s 5s/step - loss: 0.0122 - accuracy: 0.9972 - val_loss: 0.0595 - val_accuracy: 0.9916\n",
            "Epoch 9/10\n",
            "59/59 [==============================] - 279s 5s/step - loss: 0.0135 - accuracy: 0.9972 - val_loss: 0.0439 - val_accuracy: 0.9920\n",
            "Epoch 10/10\n",
            "59/59 [==============================] - 280s 5s/step - loss: 0.0117 - accuracy: 0.9972 - val_loss: 0.0818 - val_accuracy: 0.9915\n",
            "313/313 [==============================] - 13s 40ms/step - loss: 0.0818 - accuracy: 0.9915\n",
            "[0.08179139345884323, 0.9915000200271606]\n",
            "313/313 [==============================] - 13s 42ms/step - loss: 0.0818 - accuracy: 0.9915\n"
          ]
        }
      ]
    },
    {
      "cell_type": "code",
      "source": [
        "list10=[score1[1],score2[1],score3[1],score4[1],score5[1],score6[1]]\n",
        "plt.plot(list10)"
      ],
      "metadata": {
        "colab": {
          "base_uri": "https://localhost:8080/",
          "height": 283
        },
        "id": "P1GPtBKI6bNM",
        "outputId": "94ae2dc4-ecb2-4de3-9466-ed5fe7712d9d"
      },
      "execution_count": 21,
      "outputs": [
        {
          "output_type": "execute_result",
          "data": {
            "text/plain": [
              "[<matplotlib.lines.Line2D at 0x7fde1744b1c0>]"
            ]
          },
          "metadata": {},
          "execution_count": 21
        },
        {
          "output_type": "display_data",
          "data": {
            "text/plain": [
              "<Figure size 432x288 with 1 Axes>"
            ],
            "image/png": "[encoded data removed]"
          },
          "metadata": {
            "needs_background": "light"
          }
        }
      ]
    }
  ]
}